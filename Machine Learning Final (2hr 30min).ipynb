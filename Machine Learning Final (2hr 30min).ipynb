{
 "cells": [
  {
   "cell_type": "code",
   "execution_count": null,
   "id": "3d021347",
   "metadata": {},
   "outputs": [],
   "source": [
    "#Henry Lissner, Iris Gallagher, Christian Somoya"
   ]
  },
  {
   "cell_type": "code",
   "execution_count": 390,
   "id": "d85404a4",
   "metadata": {},
   "outputs": [],
   "source": [
    "#Importing the dataset and looking into it \n",
    "import pandas as pd\n",
    "\n",
    "df = pd.read_csv('waterpump.csv')\n",
    "df.info()\n",
    "df.head()"
   ]
  },
  {
   "cell_type": "code",
   "execution_count": 392,
   "id": "591e2def",
   "metadata": {},
   "outputs": [
    {
     "data": {
      "text/plain": [
       "id                           0\n",
       "amount_tsh                   0\n",
       "date_recorded                0\n",
       "funder                    2776\n",
       "gps_height                   0\n",
       "installer                 2782\n",
       "longitude                    0\n",
       "latitude                     0\n",
       "wpt_name                     1\n",
       "num_private                  0\n",
       "basin                        0\n",
       "subvillage                 287\n",
       "region                       0\n",
       "region_code                  0\n",
       "district_code                0\n",
       "lga                          0\n",
       "ward                         0\n",
       "population                   0\n",
       "public_meeting            2555\n",
       "recorded_by                  0\n",
       "scheme_management         2942\n",
       "scheme_name              21782\n",
       "permit                    2313\n",
       "construction_year            0\n",
       "extraction_type              0\n",
       "extraction_type_group        0\n",
       "extraction_type_class        0\n",
       "management                   0\n",
       "management_group             0\n",
       "payment                      0\n",
       "payment_type                 0\n",
       "water_quality                0\n",
       "quality_group                0\n",
       "quantity                     0\n",
       "quantity_group               0\n",
       "source                       0\n",
       "source_type                  0\n",
       "source_class                 0\n",
       "waterpoint_type              0\n",
       "waterpoint_type_group        0\n",
       "status_group                 0\n",
       "dtype: int64"
      ]
     },
     "execution_count": 392,
     "metadata": {},
     "output_type": "execute_result"
    }
   ],
   "source": [
    "#Checking for null values\n",
    "df.isnull().sum()"
   ]
  },
  {
   "cell_type": "code",
   "execution_count": 393,
   "id": "9121dab5",
   "metadata": {},
   "outputs": [
    {
     "data": {
      "text/plain": [
       "array(['functional', 'non functional', 'functional needs repair'],\n",
       "      dtype=object)"
      ]
     },
     "execution_count": 393,
     "metadata": {},
     "output_type": "execute_result"
    }
   ],
   "source": [
    "#Using unique to see the distribution of values\n",
    "df.status_group.unique()"
   ]
  },
  {
   "cell_type": "code",
   "execution_count": 394,
   "id": "bc71c420",
   "metadata": {},
   "outputs": [],
   "source": [
    "#Manipulating the target feature to only be 2 values: functioning or nonfunctining\n",
    "cleanup_nums = {\"functional\": 1, \"non functional\": 0,\"functional needs repair\": 1}"
   ]
  },
  {
   "cell_type": "code",
   "execution_count": 395,
   "id": "5600dea3",
   "metadata": {},
   "outputs": [],
   "source": [
    "df.replace(cleanup_nums, inplace=True)"
   ]
  },
  {
   "cell_type": "code",
   "execution_count": 396,
   "id": "60c0c843",
   "metadata": {},
   "outputs": [
    {
     "data": {
      "text/plain": [
       "0        1\n",
       "1        0\n",
       "2        0\n",
       "3        0\n",
       "4        0\n",
       "        ..\n",
       "45004    0\n",
       "45005    1\n",
       "45006    1\n",
       "45007    0\n",
       "45008    0\n",
       "Name: status_group, Length: 45009, dtype: int64"
      ]
     },
     "execution_count": 396,
     "metadata": {},
     "output_type": "execute_result"
    }
   ],
   "source": [
    "df.status_group"
   ]
  },
  {
   "cell_type": "code",
   "execution_count": 397,
   "id": "a4b8711c",
   "metadata": {},
   "outputs": [],
   "source": [
    "#Dropping values to continue cleaning\n",
    "df.drop('scheme_name', axis= 1, inplace = True)"
   ]
  },
  {
   "cell_type": "code",
   "execution_count": 398,
   "id": "d7d2fdc6",
   "metadata": {},
   "outputs": [
    {
     "name": "stdout",
     "output_type": "stream",
     "text": [
      "<class 'pandas.core.frame.DataFrame'>\n",
      "RangeIndex: 45009 entries, 0 to 45008\n",
      "Data columns (total 40 columns):\n",
      " #   Column                 Non-Null Count  Dtype  \n",
      "---  ------                 --------------  -----  \n",
      " 0   id                     45009 non-null  int64  \n",
      " 1   amount_tsh             45009 non-null  float64\n",
      " 2   date_recorded          45009 non-null  object \n",
      " 3   funder                 42233 non-null  object \n",
      " 4   gps_height             45009 non-null  int64  \n",
      " 5   installer              42227 non-null  object \n",
      " 6   longitude              45009 non-null  float64\n",
      " 7   latitude               45009 non-null  float64\n",
      " 8   wpt_name               45008 non-null  object \n",
      " 9   num_private            45009 non-null  int64  \n",
      " 10  basin                  45009 non-null  object \n",
      " 11  subvillage             44722 non-null  object \n",
      " 12  region                 45009 non-null  object \n",
      " 13  region_code            45009 non-null  int64  \n",
      " 14  district_code          45009 non-null  int64  \n",
      " 15  lga                    45009 non-null  object \n",
      " 16  ward                   45009 non-null  object \n",
      " 17  population             45009 non-null  int64  \n",
      " 18  public_meeting         42454 non-null  object \n",
      " 19  recorded_by            45009 non-null  object \n",
      " 20  scheme_management      42067 non-null  object \n",
      " 21  permit                 42696 non-null  object \n",
      " 22  construction_year      45009 non-null  int64  \n",
      " 23  extraction_type        45009 non-null  object \n",
      " 24  extraction_type_group  45009 non-null  object \n",
      " 25  extraction_type_class  45009 non-null  object \n",
      " 26  management             45009 non-null  object \n",
      " 27  management_group       45009 non-null  object \n",
      " 28  payment                45009 non-null  object \n",
      " 29  payment_type           45009 non-null  object \n",
      " 30  water_quality          45009 non-null  object \n",
      " 31  quality_group          45009 non-null  object \n",
      " 32  quantity               45009 non-null  object \n",
      " 33  quantity_group         45009 non-null  object \n",
      " 34  source                 45009 non-null  object \n",
      " 35  source_type            45009 non-null  object \n",
      " 36  source_class           45009 non-null  object \n",
      " 37  waterpoint_type        45009 non-null  object \n",
      " 38  waterpoint_type_group  45009 non-null  object \n",
      " 39  status_group           45009 non-null  int64  \n",
      "dtypes: float64(3), int64(8), object(29)\n",
      "memory usage: 13.7+ MB\n"
     ]
    }
   ],
   "source": [
    "df.info()"
   ]
  },
  {
   "cell_type": "code",
   "execution_count": 399,
   "id": "1493aa9a",
   "metadata": {},
   "outputs": [],
   "source": [
    "#Fixing NA values\n",
    "df.installer.value_counts()\n",
    "df.installer.fillna('DWE', inplace = True)"
   ]
  },
  {
   "cell_type": "code",
   "execution_count": 400,
   "id": "99b265e6",
   "metadata": {
    "scrolled": true
   },
   "outputs": [],
   "source": [
    "df.subvillage.value_counts()\n",
    "df.subvillage.fillna(method = 'ffill', inplace = True)"
   ]
  },
  {
   "cell_type": "code",
   "execution_count": 401,
   "id": "4c96bc3f",
   "metadata": {
    "scrolled": true
   },
   "outputs": [
    {
     "data": {
      "text/plain": [
       "public_meeting\n",
       "True     38683\n",
       "False     3771\n",
       "Name: count, dtype: int64"
      ]
     },
     "execution_count": 401,
     "metadata": {},
     "output_type": "execute_result"
    }
   ],
   "source": [
    "df.public_meeting.value_counts()"
   ]
  },
  {
   "cell_type": "code",
   "execution_count": 402,
   "id": "29c61295",
   "metadata": {
    "scrolled": false
   },
   "outputs": [
    {
     "data": {
      "text/plain": [
       "scheme_management\n",
       "VWC                 27905\n",
       "WUG                  3914\n",
       "Water authority      2426\n",
       "WUA                  2170\n",
       "Water Board          2092\n",
       "Parastatal           1238\n",
       "Private operator      817\n",
       "Company               810\n",
       "Other                 565\n",
       "SWC                    78\n",
       "Trust                  52\n",
       "Name: count, dtype: int64"
      ]
     },
     "execution_count": 402,
     "metadata": {},
     "output_type": "execute_result"
    }
   ],
   "source": [
    "df.scheme_management.value_counts()"
   ]
  },
  {
   "cell_type": "code",
   "execution_count": 403,
   "id": "d3c9f522",
   "metadata": {},
   "outputs": [],
   "source": [
    "df.drop('scheme_management', axis= 1, inplace = True)####might WANT TO KEEP THIS"
   ]
  },
  {
   "cell_type": "code",
   "execution_count": 404,
   "id": "4b4c3311",
   "metadata": {},
   "outputs": [
    {
     "data": {
      "text/plain": [
       "permit\n",
       "True     29483\n",
       "False    13213\n",
       "Name: count, dtype: int64"
      ]
     },
     "execution_count": 404,
     "metadata": {},
     "output_type": "execute_result"
    }
   ],
   "source": [
    "df.permit.value_counts()"
   ]
  },
  {
   "cell_type": "code",
   "execution_count": 405,
   "id": "abbb3e8a",
   "metadata": {},
   "outputs": [],
   "source": [
    "df.public_meeting.fillna(method = 'ffill', inplace = True)\n",
    "df.permit.fillna(method = 'ffill', inplace = True)\n",
    "df.funder.fillna(method = 'ffill', inplace = True)# maybe do different method"
   ]
  },
  {
   "cell_type": "code",
   "execution_count": 406,
   "id": "438cdf3a",
   "metadata": {},
   "outputs": [
    {
     "data": {
      "text/plain": [
       "id                       0\n",
       "amount_tsh               0\n",
       "date_recorded            0\n",
       "funder                   0\n",
       "gps_height               0\n",
       "installer                0\n",
       "longitude                0\n",
       "latitude                 0\n",
       "wpt_name                 1\n",
       "num_private              0\n",
       "basin                    0\n",
       "subvillage               0\n",
       "region                   0\n",
       "region_code              0\n",
       "district_code            0\n",
       "lga                      0\n",
       "ward                     0\n",
       "population               0\n",
       "public_meeting           0\n",
       "recorded_by              0\n",
       "permit                   0\n",
       "construction_year        0\n",
       "extraction_type          0\n",
       "extraction_type_group    0\n",
       "extraction_type_class    0\n",
       "management               0\n",
       "management_group         0\n",
       "payment                  0\n",
       "payment_type             0\n",
       "water_quality            0\n",
       "quality_group            0\n",
       "quantity                 0\n",
       "quantity_group           0\n",
       "source                   0\n",
       "source_type              0\n",
       "source_class             0\n",
       "waterpoint_type          0\n",
       "waterpoint_type_group    0\n",
       "status_group             0\n",
       "dtype: int64"
      ]
     },
     "execution_count": 406,
     "metadata": {},
     "output_type": "execute_result"
    }
   ],
   "source": [
    "#Checking that there are no NA left\n",
    "df.isnull().sum()"
   ]
  },
  {
   "cell_type": "code",
   "execution_count": 407,
   "id": "a0b05c4f",
   "metadata": {},
   "outputs": [],
   "source": [
    "#Cleaning duplicates\n",
    "df.drop_duplicates(inplace = True)"
   ]
  },
  {
   "cell_type": "code",
   "execution_count": 408,
   "id": "ba82983e",
   "metadata": {},
   "outputs": [
    {
     "data": {
      "text/plain": [
       "0"
      ]
     },
     "execution_count": 408,
     "metadata": {},
     "output_type": "execute_result"
    }
   ],
   "source": [
    "df.duplicated().sum()\n",
    "df.info()"
   ]
  },
  {
   "cell_type": "code",
   "execution_count": 410,
   "id": "e12522ab",
   "metadata": {},
   "outputs": [],
   "source": [
    "#columns with duplicate columns\n",
    "df.drop('recorded_by', axis= 1, inplace = True)\n",
    "df.drop('quantity', axis= 1, inplace = True)\n",
    "df.drop('quantity_group', axis= 1, inplace = True)\n",
    "df.drop('waterpoint_type_group', axis= 1, inplace = True)\n",
    "df.drop('payment', axis= 1, inplace = True)\n",
    "df.drop('date_recorded', axis= 1, inplace = True)\n",
    "df.drop('region', axis= 1, inplace = True)\n",
    "df.drop('extraction_type', axis= 1, inplace = True)\n",
    "df.drop('extraction_type_class', axis= 1, inplace = True)\n",
    "df.drop('management', axis= 1, inplace = True)\n",
    "df.drop('source', axis= 1, inplace = True)\n",
    "df.drop('source_class', axis= 1, inplace = True)\n",
    "df.drop('subvillage', axis= 1, inplace = True)"
   ]
  },
  {
   "cell_type": "code",
   "execution_count": 411,
   "id": "7faafdf0",
   "metadata": {},
   "outputs": [],
   "source": [
    "#Encoding columns\n",
    "df['funder'] = df['funder'].astype('category').cat.codes\n",
    "df['installer'] = df['installer'].astype('category').cat.codes\n",
    "df['wpt_name'] = df['wpt_name'].astype('category').cat.codes\n",
    "df['lga'] = df['lga'].astype('category').cat.codes\n",
    "df['ward'] = df['ward'].astype('category').cat.codes\n",
    "df['quality_group'] = df['quality_group'].astype('category').cat.codes"
   ]
  },
  {
   "cell_type": "code",
   "execution_count": 412,
   "id": "f66a64c5",
   "metadata": {},
   "outputs": [],
   "source": [
    "df = pd.get_dummies(df, columns = ['basin', 'management_group', 'payment_type', 'water_quality',\n",
    "                                    'source_type', 'waterpoint_type', 'funder', 'extraction_type_group'])"
   ]
  },
  {
   "cell_type": "code",
   "execution_count": 349,
   "id": "b8d45b42",
   "metadata": {
    "scrolled": true
   },
   "outputs": [
    {
     "data": {
      "text/html": [
       "<div>\n",
       "<style scoped>\n",
       "    .dataframe tbody tr th:only-of-type {\n",
       "        vertical-align: middle;\n",
       "    }\n",
       "\n",
       "    .dataframe tbody tr th {\n",
       "        vertical-align: top;\n",
       "    }\n",
       "\n",
       "    .dataframe thead th {\n",
       "        text-align: right;\n",
       "    }\n",
       "</style>\n",
       "<table border=\"1\" class=\"dataframe\">\n",
       "  <thead>\n",
       "    <tr style=\"text-align: right;\">\n",
       "      <th></th>\n",
       "      <th>quantity_group</th>\n",
       "    </tr>\n",
       "  </thead>\n",
       "  <tbody>\n",
       "    <tr>\n",
       "      <th>0</th>\n",
       "      <td>insufficient</td>\n",
       "    </tr>\n",
       "    <tr>\n",
       "      <th>1</th>\n",
       "      <td>enough</td>\n",
       "    </tr>\n",
       "    <tr>\n",
       "      <th>2</th>\n",
       "      <td>dry</td>\n",
       "    </tr>\n",
       "    <tr>\n",
       "      <th>3</th>\n",
       "      <td>enough</td>\n",
       "    </tr>\n",
       "    <tr>\n",
       "      <th>4</th>\n",
       "      <td>insufficient</td>\n",
       "    </tr>\n",
       "    <tr>\n",
       "      <th>...</th>\n",
       "      <td>...</td>\n",
       "    </tr>\n",
       "    <tr>\n",
       "      <th>45004</th>\n",
       "      <td>insufficient</td>\n",
       "    </tr>\n",
       "    <tr>\n",
       "      <th>45005</th>\n",
       "      <td>insufficient</td>\n",
       "    </tr>\n",
       "    <tr>\n",
       "      <th>45006</th>\n",
       "      <td>enough</td>\n",
       "    </tr>\n",
       "    <tr>\n",
       "      <th>45007</th>\n",
       "      <td>enough</td>\n",
       "    </tr>\n",
       "    <tr>\n",
       "      <th>45008</th>\n",
       "      <td>insufficient</td>\n",
       "    </tr>\n",
       "  </tbody>\n",
       "</table>\n",
       "<p>45009 rows × 1 columns</p>\n",
       "</div>"
      ],
      "text/plain": [
       "      quantity_group\n",
       "0       insufficient\n",
       "1             enough\n",
       "2                dry\n",
       "3             enough\n",
       "4       insufficient\n",
       "...              ...\n",
       "45004   insufficient\n",
       "45005   insufficient\n",
       "45006         enough\n",
       "45007         enough\n",
       "45008   insufficient\n",
       "\n",
       "[45009 rows x 1 columns]"
      ]
     },
     "execution_count": 349,
     "metadata": {},
     "output_type": "execute_result"
    }
   ],
   "source": [
    "#Checking that the dtypes are correct so we can run models efficiently\n",
    "df.select_dtypes('object')"
   ]
  },
  {
   "cell_type": "code",
   "execution_count": 413,
   "id": "9830fce6",
   "metadata": {},
   "outputs": [],
   "source": [
    "#Creating X and y for models\n",
    "X = df.drop('status_group', axis = 1)\n",
    "y = df['status_group']"
   ]
  },
  {
   "cell_type": "code",
   "execution_count": 414,
   "id": "0c66a57e",
   "metadata": {},
   "outputs": [],
   "source": [
    "#imports and dp train/test\n",
    "from sklearn.model_selection import train_test_split\n",
    "X_train, X_test, y_train, y_test = train_test_split(X,y, test_size = .2, stratify = y, random_state = 24)"
   ]
  },
  {
   "cell_type": "code",
   "execution_count": 417,
   "id": "46cf808a",
   "metadata": {
    "scrolled": true
   },
   "outputs": [
    {
     "name": "stdout",
     "output_type": "stream",
     "text": [
      "Fitting estimator with 1727 features.\n",
      "Fitting estimator with 1707 features.\n",
      "Fitting estimator with 1687 features.\n",
      "Fitting estimator with 1667 features.\n",
      "Fitting estimator with 1647 features.\n",
      "Fitting estimator with 1627 features.\n",
      "Fitting estimator with 1607 features.\n",
      "Fitting estimator with 1587 features.\n",
      "Fitting estimator with 1567 features.\n",
      "Fitting estimator with 1547 features.\n",
      "Fitting estimator with 1527 features.\n",
      "Fitting estimator with 1507 features.\n",
      "Fitting estimator with 1487 features.\n",
      "Fitting estimator with 1467 features.\n",
      "Fitting estimator with 1447 features.\n",
      "Fitting estimator with 1427 features.\n",
      "Fitting estimator with 1407 features.\n",
      "Fitting estimator with 1387 features.\n",
      "Fitting estimator with 1367 features.\n",
      "Fitting estimator with 1347 features.\n",
      "Fitting estimator with 1327 features.\n",
      "Fitting estimator with 1307 features.\n",
      "Fitting estimator with 1287 features.\n",
      "Fitting estimator with 1267 features.\n",
      "Fitting estimator with 1247 features.\n",
      "Fitting estimator with 1227 features.\n",
      "Fitting estimator with 1207 features.\n",
      "Fitting estimator with 1187 features.\n",
      "Fitting estimator with 1167 features.\n",
      "Fitting estimator with 1147 features.\n",
      "Fitting estimator with 1127 features.\n",
      "Fitting estimator with 1107 features.\n",
      "Fitting estimator with 1087 features.\n",
      "Fitting estimator with 1067 features.\n",
      "Fitting estimator with 1047 features.\n",
      "Fitting estimator with 1027 features.\n",
      "Fitting estimator with 1007 features.\n",
      "Fitting estimator with 987 features.\n",
      "Fitting estimator with 967 features.\n",
      "Fitting estimator with 947 features.\n",
      "Fitting estimator with 927 features.\n",
      "Fitting estimator with 907 features.\n",
      "Fitting estimator with 887 features.\n",
      "Fitting estimator with 867 features.\n",
      "Fitting estimator with 847 features.\n",
      "Fitting estimator with 827 features.\n",
      "Fitting estimator with 807 features.\n",
      "Fitting estimator with 787 features.\n",
      "Fitting estimator with 767 features.\n",
      "Fitting estimator with 747 features.\n",
      "Fitting estimator with 727 features.\n",
      "Fitting estimator with 707 features.\n",
      "Fitting estimator with 687 features.\n",
      "Fitting estimator with 667 features.\n",
      "Fitting estimator with 647 features.\n",
      "Fitting estimator with 627 features.\n",
      "Fitting estimator with 607 features.\n",
      "Fitting estimator with 587 features.\n",
      "Fitting estimator with 567 features.\n",
      "Fitting estimator with 547 features.\n",
      "Fitting estimator with 527 features.\n",
      "Fitting estimator with 507 features.\n",
      "Fitting estimator with 487 features.\n",
      "Fitting estimator with 467 features.\n",
      "Fitting estimator with 447 features.\n",
      "Fitting estimator with 427 features.\n",
      "Fitting estimator with 407 features.\n",
      "Fitting estimator with 387 features.\n",
      "Fitting estimator with 367 features.\n",
      "Fitting estimator with 347 features.\n",
      "Fitting estimator with 327 features.\n",
      "Fitting estimator with 307 features.\n",
      "Fitting estimator with 287 features.\n",
      "Fitting estimator with 267 features.\n",
      "Fitting estimator with 247 features.\n",
      "Fitting estimator with 227 features.\n",
      "Fitting estimator with 207 features.\n",
      "Fitting estimator with 187 features.\n",
      "Fitting estimator with 167 features.\n",
      "Fitting estimator with 147 features.\n",
      "Fitting estimator with 127 features.\n",
      "Fitting estimator with 107 features.\n",
      "Fitting estimator with 87 features.\n",
      "Fitting estimator with 67 features.\n",
      "Fitting estimator with 47 features.\n",
      "Fitting estimator with 27 features.\n"
     ]
    }
   ],
   "source": [
    "#running the rfe \n",
    "from sklearn.feature_selection import RFE\n",
    "from sklearn.tree import DecisionTreeClassifier\n",
    "rfe_rf = RFE(estimator = DecisionTreeClassifier(), n_features_to_select = 20, step =20, verbose = 1)\n",
    "\n",
    "rfe_rf.fit(X_train, y_train)\n",
    "accuracy_rf = rfe_rf.score(X_test, y_test)\n",
    "\n",
    "rf_mask = rfe_rf.support_\n",
    "\n",
    "X_train_select = X_train.loc[:, rf_mask]\n",
    "X_test_select = X_test.loc[:, rf_mask]"
   ]
  },
  {
   "cell_type": "code",
   "execution_count": 428,
   "id": "6db2a395",
   "metadata": {},
   "outputs": [],
   "source": [
    "#future imports\n",
    "from sklearn.model_selection import cross_validate, GridSearchCV\n",
    "from sklearn.tree import DecisionTreeClassifier \n",
    "from sklearn.tree import plot_tree\n",
    "from sklearn.model_selection import train_test_split\n",
    "import matplotlib.pyplot as plt\n",
    "from sklearn.metrics import f1_score"
   ]
  },
  {
   "cell_type": "code",
   "execution_count": 432,
   "id": "cd134331",
   "metadata": {},
   "outputs": [
    {
     "name": "stdout",
     "output_type": "stream",
     "text": [
      "Fitting 5 folds for each of 8 candidates, totalling 40 fits\n",
      "Best Score: 0.8122984493245727\n"
     ]
    }
   ],
   "source": [
    "#running our Decision Tree Classifier\n",
    "param_grid = { \n",
    "    \"max_depth\": [5, 6, 7, 8],\n",
    "    \"min_samples_leaf\": [1, 3],   \n",
    "}\n",
    " \n",
    "cl = DecisionTreeClassifier()    \n",
    "\n",
    "grid_search = GridSearchCV(estimator = cl, param_grid = param_grid, cv=5,n_jobs = -1, verbose = 2, scoring = 'f1')\n",
    "grid_search.fit(X_train_select, y_train)\n",
    "print(\"Best Score:\", grid_search.best_score_)"
   ]
  },
  {
   "cell_type": "code",
   "execution_count": 430,
   "id": "3a5b05ee",
   "metadata": {
    "scrolled": true
   },
   "outputs": [
    {
     "ename": "AttributeError",
     "evalue": "'GridSearchCV' object has no attribute 'best_params'",
     "output_type": "error",
     "traceback": [
      "\u001b[1;31m---------------------------------------------------------------------------\u001b[0m",
      "\u001b[1;31mAttributeError\u001b[0m                            Traceback (most recent call last)",
      "Cell \u001b[1;32mIn[430], line 1\u001b[0m\n\u001b[1;32m----> 1\u001b[0m \u001b[38;5;28mprint\u001b[39m(\u001b[38;5;124m\"\u001b[39m\u001b[38;5;124mBest Params are\u001b[39m\u001b[38;5;124m\"\u001b[39m, grid_search\u001b[38;5;241m.\u001b[39mbest_params)\n",
      "\u001b[1;31mAttributeError\u001b[0m: 'GridSearchCV' object has no attribute 'best_params'"
     ]
    }
   ],
   "source": [
    "#Looking at our best params and best score for train\n",
    "print(\"Best Params are\", grid_search.best_params)\n",
    "print(\"Best Score:\", grid_search.best_score_)"
   ]
  },
  {
   "cell_type": "code",
   "execution_count": 434,
   "id": "85f372c6",
   "metadata": {},
   "outputs": [
    {
     "name": "stdout",
     "output_type": "stream",
     "text": [
      "Fitting 5 folds for each of 8 candidates, totalling 40 fits\n",
      "Best Parameters: {'max_depth': 7, 'min_samples_leaf': 3}\n",
      "Best Score: 0.8044535608568202\n"
     ]
    },
    {
     "data": {
      "text/plain": [
       "(DecisionTreeClassifier(max_depth=7, min_samples_leaf=3),\n",
       " array([0.00272379, 0.11763601, 0.0208343 , ..., 0.        , 0.        ,\n",
       "        0.        ]))"
      ]
     },
     "execution_count": 434,
     "metadata": {},
     "output_type": "execute_result"
    }
   ],
   "source": [
    "#Looking at test best parameters and score\n",
    "grid_search.fit(X_test, y_test)\n",
    "\n",
    "# Best parameters and best score\n",
    "print(\"Best Parameters:\", grid_search.best_params_)\n",
    "print(\"Best Score:\", grid_search.best_score_)\n",
    " \n",
    "# Use the best estimator\n",
    "best_cl = grid_search.best_estimator_\n",
    " \n",
    "# Get feature importances\n",
    "feature_importances = best_cl.feature_importances_\n",
    " \n",
    "# Returning the best model and its feature importances\n",
    "(best_cl, feature_importances)"
   ]
  },
  {
   "cell_type": "code",
   "execution_count": null,
   "id": "30d560c7",
   "metadata": {},
   "outputs": [],
   "source": []
  }
 ],
 "metadata": {
  "kernelspec": {
   "display_name": "Python 3 (ipykernel)",
   "language": "python",
   "name": "python3"
  },
  "language_info": {
   "codemirror_mode": {
    "name": "ipython",
    "version": 3
   },
   "file_extension": ".py",
   "mimetype": "text/x-python",
   "name": "python",
   "nbconvert_exporter": "python",
   "pygments_lexer": "ipython3",
   "version": "3.11.5"
  }
 },
 "nbformat": 4,
 "nbformat_minor": 5
}
